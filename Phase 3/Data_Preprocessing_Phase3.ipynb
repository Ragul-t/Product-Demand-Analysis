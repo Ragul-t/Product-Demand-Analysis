{
 "cells": [
  {
   "cell_type": "markdown",
   "id": "8fdbd26f",
   "metadata": {},
   "source": [
    "### 1 . Importing Modules"
   ]
  },
  {
   "cell_type": "code",
   "execution_count": 1,
   "id": "8677f77a",
   "metadata": {},
   "outputs": [],
   "source": [
    "import pandas as pd\n",
    "import numpy as np\n",
    "import matplotlib.pyplot as plt\n",
    "from sklearn.model_selection import train_test_split\n",
    "from sklearn import preprocessing"
   ]
  },
  {
   "cell_type": "markdown",
   "id": "872d0597",
   "metadata": {},
   "source": [
    "### Importing DataSet"
   ]
  },
  {
   "cell_type": "code",
   "execution_count": 60,
   "id": "4032978d",
   "metadata": {},
   "outputs": [],
   "source": [
    "data = pd.read_csv(\"/Users/akhileshram/NM/Product_Demand_Prediction/Phase_2/ProductDemand.csv\")"
   ]
  },
  {
   "cell_type": "markdown",
   "id": "e72d1aa2",
   "metadata": {},
   "source": [
    "### First Five Rows"
   ]
  },
  {
   "cell_type": "code",
   "execution_count": 3,
   "id": "7364e1b3",
   "metadata": {},
   "outputs": [
    {
     "data": {
      "text/html": [
       "<div>\n",
       "<style scoped>\n",
       "    .dataframe tbody tr th:only-of-type {\n",
       "        vertical-align: middle;\n",
       "    }\n",
       "\n",
       "    .dataframe tbody tr th {\n",
       "        vertical-align: top;\n",
       "    }\n",
       "\n",
       "    .dataframe thead th {\n",
       "        text-align: right;\n",
       "    }\n",
       "</style>\n",
       "<table border=\"1\" class=\"dataframe\">\n",
       "  <thead>\n",
       "    <tr style=\"text-align: right;\">\n",
       "      <th></th>\n",
       "      <th>ID</th>\n",
       "      <th>Store ID</th>\n",
       "      <th>Total Price</th>\n",
       "      <th>Base Price</th>\n",
       "      <th>Units Sold</th>\n",
       "    </tr>\n",
       "  </thead>\n",
       "  <tbody>\n",
       "    <tr>\n",
       "      <th>0</th>\n",
       "      <td>1</td>\n",
       "      <td>8091</td>\n",
       "      <td>99.0375</td>\n",
       "      <td>111.8625</td>\n",
       "      <td>20</td>\n",
       "    </tr>\n",
       "    <tr>\n",
       "      <th>1</th>\n",
       "      <td>2</td>\n",
       "      <td>8091</td>\n",
       "      <td>99.0375</td>\n",
       "      <td>99.0375</td>\n",
       "      <td>28</td>\n",
       "    </tr>\n",
       "    <tr>\n",
       "      <th>2</th>\n",
       "      <td>3</td>\n",
       "      <td>8091</td>\n",
       "      <td>133.9500</td>\n",
       "      <td>133.9500</td>\n",
       "      <td>19</td>\n",
       "    </tr>\n",
       "    <tr>\n",
       "      <th>3</th>\n",
       "      <td>4</td>\n",
       "      <td>8091</td>\n",
       "      <td>133.9500</td>\n",
       "      <td>133.9500</td>\n",
       "      <td>44</td>\n",
       "    </tr>\n",
       "    <tr>\n",
       "      <th>4</th>\n",
       "      <td>5</td>\n",
       "      <td>8091</td>\n",
       "      <td>141.0750</td>\n",
       "      <td>141.0750</td>\n",
       "      <td>52</td>\n",
       "    </tr>\n",
       "  </tbody>\n",
       "</table>\n",
       "</div>"
      ],
      "text/plain": [
       "   ID  Store ID  Total Price  Base Price  Units Sold\n",
       "0   1      8091      99.0375    111.8625          20\n",
       "1   2      8091      99.0375     99.0375          28\n",
       "2   3      8091     133.9500    133.9500          19\n",
       "3   4      8091     133.9500    133.9500          44\n",
       "4   5      8091     141.0750    141.0750          52"
      ]
     },
     "execution_count": 3,
     "metadata": {},
     "output_type": "execute_result"
    }
   ],
   "source": [
    "data.head()"
   ]
  },
  {
   "cell_type": "markdown",
   "id": "fdc19863",
   "metadata": {},
   "source": [
    "# Data Preprocessing"
   ]
  },
  {
   "cell_type": "markdown",
   "id": "97b0f7f0",
   "metadata": {},
   "source": [
    "## Shape of the Dataset"
   ]
  },
  {
   "cell_type": "code",
   "execution_count": 4,
   "id": "792cb664",
   "metadata": {},
   "outputs": [
    {
     "data": {
      "text/plain": [
       "(150150, 5)"
      ]
     },
     "execution_count": 4,
     "metadata": {},
     "output_type": "execute_result"
    }
   ],
   "source": [
    "data.shape"
   ]
  },
  {
   "cell_type": "markdown",
   "id": "be2ba645",
   "metadata": {},
   "source": [
    "## Descriptive statistics of the data-sets"
   ]
  },
  {
   "cell_type": "code",
   "execution_count": 5,
   "id": "53d86c74",
   "metadata": {},
   "outputs": [
    {
     "data": {
      "text/html": [
       "<div>\n",
       "<style scoped>\n",
       "    .dataframe tbody tr th:only-of-type {\n",
       "        vertical-align: middle;\n",
       "    }\n",
       "\n",
       "    .dataframe tbody tr th {\n",
       "        vertical-align: top;\n",
       "    }\n",
       "\n",
       "    .dataframe thead th {\n",
       "        text-align: right;\n",
       "    }\n",
       "</style>\n",
       "<table border=\"1\" class=\"dataframe\">\n",
       "  <thead>\n",
       "    <tr style=\"text-align: right;\">\n",
       "      <th></th>\n",
       "      <th>count</th>\n",
       "      <th>mean</th>\n",
       "      <th>std</th>\n",
       "      <th>min</th>\n",
       "      <th>25%</th>\n",
       "      <th>50%</th>\n",
       "      <th>75%</th>\n",
       "      <th>max</th>\n",
       "    </tr>\n",
       "  </thead>\n",
       "  <tbody>\n",
       "    <tr>\n",
       "      <th>ID</th>\n",
       "      <td>150150.0</td>\n",
       "      <td>106271.555504</td>\n",
       "      <td>61386.037861</td>\n",
       "      <td>1.000</td>\n",
       "      <td>53111.2500</td>\n",
       "      <td>106226.5000</td>\n",
       "      <td>159452.7500</td>\n",
       "      <td>212644.0000</td>\n",
       "    </tr>\n",
       "    <tr>\n",
       "      <th>Store ID</th>\n",
       "      <td>150150.0</td>\n",
       "      <td>9199.422511</td>\n",
       "      <td>615.591445</td>\n",
       "      <td>8023.000</td>\n",
       "      <td>8562.0000</td>\n",
       "      <td>9371.0000</td>\n",
       "      <td>9731.0000</td>\n",
       "      <td>9984.0000</td>\n",
       "    </tr>\n",
       "    <tr>\n",
       "      <th>Total Price</th>\n",
       "      <td>150149.0</td>\n",
       "      <td>206.626751</td>\n",
       "      <td>103.308516</td>\n",
       "      <td>41.325</td>\n",
       "      <td>130.3875</td>\n",
       "      <td>198.0750</td>\n",
       "      <td>233.7000</td>\n",
       "      <td>562.1625</td>\n",
       "    </tr>\n",
       "    <tr>\n",
       "      <th>Base Price</th>\n",
       "      <td>150150.0</td>\n",
       "      <td>219.425927</td>\n",
       "      <td>110.961712</td>\n",
       "      <td>61.275</td>\n",
       "      <td>133.2375</td>\n",
       "      <td>205.9125</td>\n",
       "      <td>234.4125</td>\n",
       "      <td>562.1625</td>\n",
       "    </tr>\n",
       "    <tr>\n",
       "      <th>Units Sold</th>\n",
       "      <td>150150.0</td>\n",
       "      <td>51.674206</td>\n",
       "      <td>60.207904</td>\n",
       "      <td>1.000</td>\n",
       "      <td>20.0000</td>\n",
       "      <td>35.0000</td>\n",
       "      <td>62.0000</td>\n",
       "      <td>2876.0000</td>\n",
       "    </tr>\n",
       "  </tbody>\n",
       "</table>\n",
       "</div>"
      ],
      "text/plain": [
       "                count           mean           std       min         25%  \\\n",
       "ID           150150.0  106271.555504  61386.037861     1.000  53111.2500   \n",
       "Store ID     150150.0    9199.422511    615.591445  8023.000   8562.0000   \n",
       "Total Price  150149.0     206.626751    103.308516    41.325    130.3875   \n",
       "Base Price   150150.0     219.425927    110.961712    61.275    133.2375   \n",
       "Units Sold   150150.0      51.674206     60.207904     1.000     20.0000   \n",
       "\n",
       "                     50%          75%          max  \n",
       "ID           106226.5000  159452.7500  212644.0000  \n",
       "Store ID       9371.0000    9731.0000    9984.0000  \n",
       "Total Price     198.0750     233.7000     562.1625  \n",
       "Base Price      205.9125     234.4125     562.1625  \n",
       "Units Sold       35.0000      62.0000    2876.0000  "
      ]
     },
     "execution_count": 5,
     "metadata": {},
     "output_type": "execute_result"
    }
   ],
   "source": [
    "data.describe().transpose()"
   ]
  },
  {
   "cell_type": "markdown",
   "id": "8a4cfe2a",
   "metadata": {},
   "source": [
    "## Correlation between features in a dataset"
   ]
  },
  {
   "cell_type": "code",
   "execution_count": 6,
   "id": "79f7c966",
   "metadata": {},
   "outputs": [
    {
     "data": {
      "text/html": [
       "<div>\n",
       "<style scoped>\n",
       "    .dataframe tbody tr th:only-of-type {\n",
       "        vertical-align: middle;\n",
       "    }\n",
       "\n",
       "    .dataframe tbody tr th {\n",
       "        vertical-align: top;\n",
       "    }\n",
       "\n",
       "    .dataframe thead th {\n",
       "        text-align: right;\n",
       "    }\n",
       "</style>\n",
       "<table border=\"1\" class=\"dataframe\">\n",
       "  <thead>\n",
       "    <tr style=\"text-align: right;\">\n",
       "      <th></th>\n",
       "      <th>ID</th>\n",
       "      <th>Store ID</th>\n",
       "      <th>Total Price</th>\n",
       "      <th>Base Price</th>\n",
       "      <th>Units Sold</th>\n",
       "    </tr>\n",
       "  </thead>\n",
       "  <tbody>\n",
       "    <tr>\n",
       "      <th>ID</th>\n",
       "      <td>1.000000</td>\n",
       "      <td>0.007464</td>\n",
       "      <td>0.008473</td>\n",
       "      <td>0.018932</td>\n",
       "      <td>-0.010616</td>\n",
       "    </tr>\n",
       "    <tr>\n",
       "      <th>Store ID</th>\n",
       "      <td>0.007464</td>\n",
       "      <td>1.000000</td>\n",
       "      <td>-0.038315</td>\n",
       "      <td>-0.038848</td>\n",
       "      <td>-0.004372</td>\n",
       "    </tr>\n",
       "    <tr>\n",
       "      <th>Total Price</th>\n",
       "      <td>0.008473</td>\n",
       "      <td>-0.038315</td>\n",
       "      <td>1.000000</td>\n",
       "      <td>0.958885</td>\n",
       "      <td>-0.235625</td>\n",
       "    </tr>\n",
       "    <tr>\n",
       "      <th>Base Price</th>\n",
       "      <td>0.018932</td>\n",
       "      <td>-0.038848</td>\n",
       "      <td>0.958885</td>\n",
       "      <td>1.000000</td>\n",
       "      <td>-0.140032</td>\n",
       "    </tr>\n",
       "    <tr>\n",
       "      <th>Units Sold</th>\n",
       "      <td>-0.010616</td>\n",
       "      <td>-0.004372</td>\n",
       "      <td>-0.235625</td>\n",
       "      <td>-0.140032</td>\n",
       "      <td>1.000000</td>\n",
       "    </tr>\n",
       "  </tbody>\n",
       "</table>\n",
       "</div>"
      ],
      "text/plain": [
       "                   ID  Store ID  Total Price  Base Price  Units Sold\n",
       "ID           1.000000  0.007464     0.008473    0.018932   -0.010616\n",
       "Store ID     0.007464  1.000000    -0.038315   -0.038848   -0.004372\n",
       "Total Price  0.008473 -0.038315     1.000000    0.958885   -0.235625\n",
       "Base Price   0.018932 -0.038848     0.958885    1.000000   -0.140032\n",
       "Units Sold  -0.010616 -0.004372    -0.235625   -0.140032    1.000000"
      ]
     },
     "execution_count": 6,
     "metadata": {},
     "output_type": "execute_result"
    }
   ],
   "source": [
    "data.corr()"
   ]
  },
  {
   "cell_type": "markdown",
   "id": "0df3356b",
   "metadata": {},
   "source": [
    "## Data types and more information about the data"
   ]
  },
  {
   "cell_type": "code",
   "execution_count": 7,
   "id": "c756789a",
   "metadata": {
    "scrolled": true
   },
   "outputs": [
    {
     "name": "stdout",
     "output_type": "stream",
     "text": [
      "<class 'pandas.core.frame.DataFrame'>\n",
      "RangeIndex: 150150 entries, 0 to 150149\n",
      "Data columns (total 5 columns):\n",
      " #   Column       Non-Null Count   Dtype  \n",
      "---  ------       --------------   -----  \n",
      " 0   ID           150150 non-null  int64  \n",
      " 1   Store ID     150150 non-null  int64  \n",
      " 2   Total Price  150149 non-null  float64\n",
      " 3   Base Price   150150 non-null  float64\n",
      " 4   Units Sold   150150 non-null  int64  \n",
      "dtypes: float64(2), int64(3)\n",
      "memory usage: 5.7 MB\n"
     ]
    }
   ],
   "source": [
    "data.info()"
   ]
  },
  {
   "cell_type": "markdown",
   "id": "5a0d2b03",
   "metadata": {},
   "source": [
    "## Checking for Missing Values"
   ]
  },
  {
   "cell_type": "code",
   "execution_count": 8,
   "id": "78b82dcb",
   "metadata": {},
   "outputs": [
    {
     "data": {
      "text/plain": [
       "ID             0\n",
       "Store ID       0\n",
       "Total Price    1\n",
       "Base Price     0\n",
       "Units Sold     0\n",
       "dtype: int64"
      ]
     },
     "execution_count": 8,
     "metadata": {},
     "output_type": "execute_result"
    }
   ],
   "source": [
    "#The Data Contains Missing values\n",
    "data.isnull().sum()"
   ]
  },
  {
   "cell_type": "code",
   "execution_count": 9,
   "id": "367ec14c",
   "metadata": {},
   "outputs": [
    {
     "data": {
      "text/html": [
       "<div>\n",
       "<style scoped>\n",
       "    .dataframe tbody tr th:only-of-type {\n",
       "        vertical-align: middle;\n",
       "    }\n",
       "\n",
       "    .dataframe tbody tr th {\n",
       "        vertical-align: top;\n",
       "    }\n",
       "\n",
       "    .dataframe thead th {\n",
       "        text-align: right;\n",
       "    }\n",
       "</style>\n",
       "<table border=\"1\" class=\"dataframe\">\n",
       "  <thead>\n",
       "    <tr style=\"text-align: right;\">\n",
       "      <th></th>\n",
       "      <th>ID</th>\n",
       "      <th>Store ID</th>\n",
       "      <th>Total Price</th>\n",
       "      <th>Base Price</th>\n",
       "      <th>Units Sold</th>\n",
       "    </tr>\n",
       "  </thead>\n",
       "  <tbody>\n",
       "    <tr>\n",
       "      <th>136949</th>\n",
       "      <td>193915</td>\n",
       "      <td>9436</td>\n",
       "      <td>NaN</td>\n",
       "      <td>469.5375</td>\n",
       "      <td>1</td>\n",
       "    </tr>\n",
       "  </tbody>\n",
       "</table>\n",
       "</div>"
      ],
      "text/plain": [
       "            ID  Store ID  Total Price  Base Price  Units Sold\n",
       "136949  193915      9436          NaN    469.5375           1"
      ]
     },
     "execution_count": 9,
     "metadata": {},
     "output_type": "execute_result"
    }
   ],
   "source": [
    "S = pd.isnull(data['Total Price'])\n",
    "data[S]"
   ]
  },
  {
   "cell_type": "code",
   "execution_count": 10,
   "id": "baee621a",
   "metadata": {},
   "outputs": [
    {
     "data": {
      "image/png": "[encoded data removed]",
      "text/plain": [
       "<Figure size 2500x1000 with 2 Axes>"
      ]
     },
     "metadata": {},
     "output_type": "display_data"
    },
    {
     "data": {
      "text/plain": [
       "<Figure size 1000x600 with 0 Axes>"
      ]
     },
     "metadata": {},
     "output_type": "display_data"
    }
   ],
   "source": [
    "import missingno as msno \n",
    "msno.matrix(data)\n",
    "plt.figure(figsize=(10,6))\n",
    "plt.show()"
   ]
  },
  {
   "cell_type": "code",
   "execution_count": 11,
   "id": "f00ce937",
   "metadata": {},
   "outputs": [
    {
     "data": {
      "text/plain": [
       "<AxesSubplot: >"
      ]
     },
     "execution_count": 11,
     "metadata": {},
     "output_type": "execute_result"
    },
    {
     "data": {
      "image/png": "[encoded data removed]",
      "text/plain": [
       "<Figure size 2500x1000 with 3 Axes>"
      ]
     },
     "metadata": {},
     "output_type": "display_data"
    }
   ],
   "source": [
    "msno.bar(data)"
   ]
  },
  {
   "cell_type": "markdown",
   "id": "7d20fb04",
   "metadata": {},
   "source": [
    "## 1.Delete the missing value"
   ]
  },
  {
   "cell_type": "code",
   "execution_count": 61,
   "id": "8b079f4b",
   "metadata": {},
   "outputs": [],
   "source": [
    "data = data.dropna()"
   ]
  },
  {
   "cell_type": "code",
   "execution_count": 62,
   "id": "b51bbeb2",
   "metadata": {},
   "outputs": [
    {
     "data": {
      "text/plain": [
       "(150149, 5)"
      ]
     },
     "execution_count": 62,
     "metadata": {},
     "output_type": "execute_result"
    }
   ],
   "source": [
    "data.shape"
   ]
  },
  {
   "cell_type": "markdown",
   "id": "c114e915",
   "metadata": {},
   "source": [
    "## 2.Replacing with an arbitrary value"
   ]
  },
  {
   "cell_type": "code",
   "execution_count": 15,
   "id": "abebc503",
   "metadata": {},
   "outputs": [
    {
     "data": {
      "text/html": [
       "<div>\n",
       "<style scoped>\n",
       "    .dataframe tbody tr th:only-of-type {\n",
       "        vertical-align: middle;\n",
       "    }\n",
       "\n",
       "    .dataframe tbody tr th {\n",
       "        vertical-align: top;\n",
       "    }\n",
       "\n",
       "    .dataframe thead th {\n",
       "        text-align: right;\n",
       "    }\n",
       "</style>\n",
       "<table border=\"1\" class=\"dataframe\">\n",
       "  <thead>\n",
       "    <tr style=\"text-align: right;\">\n",
       "      <th></th>\n",
       "      <th>ID</th>\n",
       "      <th>Store ID</th>\n",
       "      <th>Total Price</th>\n",
       "      <th>Base Price</th>\n",
       "      <th>Units Sold</th>\n",
       "    </tr>\n",
       "  </thead>\n",
       "  <tbody>\n",
       "    <tr>\n",
       "      <th>136949</th>\n",
       "      <td>193915</td>\n",
       "      <td>9436</td>\n",
       "      <td>NaN</td>\n",
       "      <td>469.5375</td>\n",
       "      <td>1</td>\n",
       "    </tr>\n",
       "  </tbody>\n",
       "</table>\n",
       "</div>"
      ],
      "text/plain": [
       "            ID  Store ID  Total Price  Base Price  Units Sold\n",
       "136949  193915      9436          NaN    469.5375           1"
      ]
     },
     "execution_count": 15,
     "metadata": {},
     "output_type": "execute_result"
    }
   ],
   "source": [
    "data.loc[[136949]]"
   ]
  },
  {
   "cell_type": "code",
   "execution_count": 16,
   "id": "b9b2c678",
   "metadata": {},
   "outputs": [],
   "source": [
    "data['Total Price'] = data['Total Price'].fillna(data['Base Price'])"
   ]
  },
  {
   "cell_type": "code",
   "execution_count": 17,
   "id": "3c519535",
   "metadata": {},
   "outputs": [
    {
     "data": {
      "text/plain": [
       "ID             0\n",
       "Store ID       0\n",
       "Total Price    0\n",
       "Base Price     0\n",
       "Units Sold     0\n",
       "dtype: int64"
      ]
     },
     "execution_count": 17,
     "metadata": {},
     "output_type": "execute_result"
    }
   ],
   "source": [
    "data.isnull().sum()"
   ]
  },
  {
   "cell_type": "code",
   "execution_count": 18,
   "id": "e1160477",
   "metadata": {},
   "outputs": [
    {
     "data": {
      "text/html": [
       "<div>\n",
       "<style scoped>\n",
       "    .dataframe tbody tr th:only-of-type {\n",
       "        vertical-align: middle;\n",
       "    }\n",
       "\n",
       "    .dataframe tbody tr th {\n",
       "        vertical-align: top;\n",
       "    }\n",
       "\n",
       "    .dataframe thead th {\n",
       "        text-align: right;\n",
       "    }\n",
       "</style>\n",
       "<table border=\"1\" class=\"dataframe\">\n",
       "  <thead>\n",
       "    <tr style=\"text-align: right;\">\n",
       "      <th></th>\n",
       "      <th>ID</th>\n",
       "      <th>Store ID</th>\n",
       "      <th>Total Price</th>\n",
       "      <th>Base Price</th>\n",
       "      <th>Units Sold</th>\n",
       "    </tr>\n",
       "  </thead>\n",
       "  <tbody>\n",
       "    <tr>\n",
       "      <th>136949</th>\n",
       "      <td>193915</td>\n",
       "      <td>9436</td>\n",
       "      <td>469.5375</td>\n",
       "      <td>469.5375</td>\n",
       "      <td>1</td>\n",
       "    </tr>\n",
       "  </tbody>\n",
       "</table>\n",
       "</div>"
      ],
      "text/plain": [
       "            ID  Store ID  Total Price  Base Price  Units Sold\n",
       "136949  193915      9436     469.5375    469.5375           1"
      ]
     },
     "execution_count": 18,
     "metadata": {},
     "output_type": "execute_result"
    }
   ],
   "source": [
    "data.loc[[136949]]"
   ]
  },
  {
   "cell_type": "markdown",
   "id": "6de3ba0a",
   "metadata": {},
   "source": [
    "## 3.Replacing with the Mean"
   ]
  },
  {
   "cell_type": "code",
   "execution_count": 20,
   "id": "62218fa3",
   "metadata": {},
   "outputs": [
    {
     "data": {
      "text/html": [
       "<div>\n",
       "<style scoped>\n",
       "    .dataframe tbody tr th:only-of-type {\n",
       "        vertical-align: middle;\n",
       "    }\n",
       "\n",
       "    .dataframe tbody tr th {\n",
       "        vertical-align: top;\n",
       "    }\n",
       "\n",
       "    .dataframe thead th {\n",
       "        text-align: right;\n",
       "    }\n",
       "</style>\n",
       "<table border=\"1\" class=\"dataframe\">\n",
       "  <thead>\n",
       "    <tr style=\"text-align: right;\">\n",
       "      <th></th>\n",
       "      <th>ID</th>\n",
       "      <th>Store ID</th>\n",
       "      <th>Total Price</th>\n",
       "      <th>Base Price</th>\n",
       "      <th>Units Sold</th>\n",
       "    </tr>\n",
       "  </thead>\n",
       "  <tbody>\n",
       "    <tr>\n",
       "      <th>136949</th>\n",
       "      <td>193915</td>\n",
       "      <td>9436</td>\n",
       "      <td>NaN</td>\n",
       "      <td>469.5375</td>\n",
       "      <td>1</td>\n",
       "    </tr>\n",
       "  </tbody>\n",
       "</table>\n",
       "</div>"
      ],
      "text/plain": [
       "            ID  Store ID  Total Price  Base Price  Units Sold\n",
       "136949  193915      9436          NaN    469.5375           1"
      ]
     },
     "execution_count": 20,
     "metadata": {},
     "output_type": "execute_result"
    }
   ],
   "source": [
    "data.loc[[136949]]"
   ]
  },
  {
   "cell_type": "code",
   "execution_count": 21,
   "id": "a69729c5",
   "metadata": {},
   "outputs": [],
   "source": [
    "data['Total Price'] = data['Total Price'].fillna(data['Base Price'].mean())"
   ]
  },
  {
   "cell_type": "code",
   "execution_count": 22,
   "id": "581cfe78",
   "metadata": {},
   "outputs": [
    {
     "data": {
      "text/plain": [
       "ID             0\n",
       "Store ID       0\n",
       "Total Price    0\n",
       "Base Price     0\n",
       "Units Sold     0\n",
       "dtype: int64"
      ]
     },
     "execution_count": 22,
     "metadata": {},
     "output_type": "execute_result"
    }
   ],
   "source": [
    "data.isnull().sum()"
   ]
  },
  {
   "cell_type": "code",
   "execution_count": 23,
   "id": "366f213f",
   "metadata": {},
   "outputs": [
    {
     "data": {
      "text/html": [
       "<div>\n",
       "<style scoped>\n",
       "    .dataframe tbody tr th:only-of-type {\n",
       "        vertical-align: middle;\n",
       "    }\n",
       "\n",
       "    .dataframe tbody tr th {\n",
       "        vertical-align: top;\n",
       "    }\n",
       "\n",
       "    .dataframe thead th {\n",
       "        text-align: right;\n",
       "    }\n",
       "</style>\n",
       "<table border=\"1\" class=\"dataframe\">\n",
       "  <thead>\n",
       "    <tr style=\"text-align: right;\">\n",
       "      <th></th>\n",
       "      <th>ID</th>\n",
       "      <th>Store ID</th>\n",
       "      <th>Total Price</th>\n",
       "      <th>Base Price</th>\n",
       "      <th>Units Sold</th>\n",
       "    </tr>\n",
       "  </thead>\n",
       "  <tbody>\n",
       "    <tr>\n",
       "      <th>136949</th>\n",
       "      <td>193915</td>\n",
       "      <td>9436</td>\n",
       "      <td>219.425927</td>\n",
       "      <td>469.5375</td>\n",
       "      <td>1</td>\n",
       "    </tr>\n",
       "  </tbody>\n",
       "</table>\n",
       "</div>"
      ],
      "text/plain": [
       "            ID  Store ID  Total Price  Base Price  Units Sold\n",
       "136949  193915      9436   219.425927    469.5375           1"
      ]
     },
     "execution_count": 23,
     "metadata": {},
     "output_type": "execute_result"
    }
   ],
   "source": [
    "data.loc[[136949]]"
   ]
  },
  {
   "cell_type": "markdown",
   "id": "935085a7",
   "metadata": {},
   "source": [
    "## 4.Replacing with the Mode"
   ]
  },
  {
   "cell_type": "code",
   "execution_count": 25,
   "id": "21dc1e73",
   "metadata": {},
   "outputs": [
    {
     "data": {
      "text/html": [
       "<div>\n",
       "<style scoped>\n",
       "    .dataframe tbody tr th:only-of-type {\n",
       "        vertical-align: middle;\n",
       "    }\n",
       "\n",
       "    .dataframe tbody tr th {\n",
       "        vertical-align: top;\n",
       "    }\n",
       "\n",
       "    .dataframe thead th {\n",
       "        text-align: right;\n",
       "    }\n",
       "</style>\n",
       "<table border=\"1\" class=\"dataframe\">\n",
       "  <thead>\n",
       "    <tr style=\"text-align: right;\">\n",
       "      <th></th>\n",
       "      <th>ID</th>\n",
       "      <th>Store ID</th>\n",
       "      <th>Total Price</th>\n",
       "      <th>Base Price</th>\n",
       "      <th>Units Sold</th>\n",
       "    </tr>\n",
       "  </thead>\n",
       "  <tbody>\n",
       "    <tr>\n",
       "      <th>136949</th>\n",
       "      <td>193915</td>\n",
       "      <td>9436</td>\n",
       "      <td>NaN</td>\n",
       "      <td>469.5375</td>\n",
       "      <td>1</td>\n",
       "    </tr>\n",
       "  </tbody>\n",
       "</table>\n",
       "</div>"
      ],
      "text/plain": [
       "            ID  Store ID  Total Price  Base Price  Units Sold\n",
       "136949  193915      9436          NaN    469.5375           1"
      ]
     },
     "execution_count": 25,
     "metadata": {},
     "output_type": "execute_result"
    }
   ],
   "source": [
    "data.loc[[136949]]"
   ]
  },
  {
   "cell_type": "code",
   "execution_count": 26,
   "id": "ffadae82",
   "metadata": {},
   "outputs": [],
   "source": [
    "data['Total Price'] = data['Total Price'].fillna(data['Base Price'].mode()[0])"
   ]
  },
  {
   "cell_type": "code",
   "execution_count": 27,
   "id": "a3493c71",
   "metadata": {},
   "outputs": [
    {
     "data": {
      "text/plain": [
       "ID             0\n",
       "Store ID       0\n",
       "Total Price    0\n",
       "Base Price     0\n",
       "Units Sold     0\n",
       "dtype: int64"
      ]
     },
     "execution_count": 27,
     "metadata": {},
     "output_type": "execute_result"
    }
   ],
   "source": [
    "data.isnull().sum()"
   ]
  },
  {
   "cell_type": "code",
   "execution_count": 28,
   "id": "77fc498a",
   "metadata": {},
   "outputs": [
    {
     "data": {
      "text/html": [
       "<div>\n",
       "<style scoped>\n",
       "    .dataframe tbody tr th:only-of-type {\n",
       "        vertical-align: middle;\n",
       "    }\n",
       "\n",
       "    .dataframe tbody tr th {\n",
       "        vertical-align: top;\n",
       "    }\n",
       "\n",
       "    .dataframe thead th {\n",
       "        text-align: right;\n",
       "    }\n",
       "</style>\n",
       "<table border=\"1\" class=\"dataframe\">\n",
       "  <thead>\n",
       "    <tr style=\"text-align: right;\">\n",
       "      <th></th>\n",
       "      <th>ID</th>\n",
       "      <th>Store ID</th>\n",
       "      <th>Total Price</th>\n",
       "      <th>Base Price</th>\n",
       "      <th>Units Sold</th>\n",
       "    </tr>\n",
       "  </thead>\n",
       "  <tbody>\n",
       "    <tr>\n",
       "      <th>136949</th>\n",
       "      <td>193915</td>\n",
       "      <td>9436</td>\n",
       "      <td>205.9125</td>\n",
       "      <td>469.5375</td>\n",
       "      <td>1</td>\n",
       "    </tr>\n",
       "  </tbody>\n",
       "</table>\n",
       "</div>"
      ],
      "text/plain": [
       "            ID  Store ID  Total Price  Base Price  Units Sold\n",
       "136949  193915      9436     205.9125    469.5375           1"
      ]
     },
     "execution_count": 28,
     "metadata": {},
     "output_type": "execute_result"
    }
   ],
   "source": [
    "data.loc[[136949]]"
   ]
  },
  {
   "cell_type": "markdown",
   "id": "4f741ec4",
   "metadata": {},
   "source": [
    "## 5.Replacing with the Median"
   ]
  },
  {
   "cell_type": "code",
   "execution_count": 30,
   "id": "81386199",
   "metadata": {},
   "outputs": [
    {
     "data": {
      "text/html": [
       "<div>\n",
       "<style scoped>\n",
       "    .dataframe tbody tr th:only-of-type {\n",
       "        vertical-align: middle;\n",
       "    }\n",
       "\n",
       "    .dataframe tbody tr th {\n",
       "        vertical-align: top;\n",
       "    }\n",
       "\n",
       "    .dataframe thead th {\n",
       "        text-align: right;\n",
       "    }\n",
       "</style>\n",
       "<table border=\"1\" class=\"dataframe\">\n",
       "  <thead>\n",
       "    <tr style=\"text-align: right;\">\n",
       "      <th></th>\n",
       "      <th>ID</th>\n",
       "      <th>Store ID</th>\n",
       "      <th>Total Price</th>\n",
       "      <th>Base Price</th>\n",
       "      <th>Units Sold</th>\n",
       "    </tr>\n",
       "  </thead>\n",
       "  <tbody>\n",
       "    <tr>\n",
       "      <th>136949</th>\n",
       "      <td>193915</td>\n",
       "      <td>9436</td>\n",
       "      <td>NaN</td>\n",
       "      <td>469.5375</td>\n",
       "      <td>1</td>\n",
       "    </tr>\n",
       "  </tbody>\n",
       "</table>\n",
       "</div>"
      ],
      "text/plain": [
       "            ID  Store ID  Total Price  Base Price  Units Sold\n",
       "136949  193915      9436          NaN    469.5375           1"
      ]
     },
     "execution_count": 30,
     "metadata": {},
     "output_type": "execute_result"
    }
   ],
   "source": [
    "data.loc[[136949]]"
   ]
  },
  {
   "cell_type": "code",
   "execution_count": 31,
   "id": "8b9aeea0",
   "metadata": {},
   "outputs": [],
   "source": [
    "data['Total Price'] = data['Total Price'].fillna(data['Base Price'].median())"
   ]
  },
  {
   "cell_type": "code",
   "execution_count": 32,
   "id": "2dabfd80",
   "metadata": {},
   "outputs": [
    {
     "data": {
      "text/plain": [
       "ID             0\n",
       "Store ID       0\n",
       "Total Price    0\n",
       "Base Price     0\n",
       "Units Sold     0\n",
       "dtype: int64"
      ]
     },
     "execution_count": 32,
     "metadata": {},
     "output_type": "execute_result"
    }
   ],
   "source": [
    "data.isnull().sum()"
   ]
  },
  {
   "cell_type": "code",
   "execution_count": 33,
   "id": "c01967c3",
   "metadata": {},
   "outputs": [
    {
     "data": {
      "text/html": [
       "<div>\n",
       "<style scoped>\n",
       "    .dataframe tbody tr th:only-of-type {\n",
       "        vertical-align: middle;\n",
       "    }\n",
       "\n",
       "    .dataframe tbody tr th {\n",
       "        vertical-align: top;\n",
       "    }\n",
       "\n",
       "    .dataframe thead th {\n",
       "        text-align: right;\n",
       "    }\n",
       "</style>\n",
       "<table border=\"1\" class=\"dataframe\">\n",
       "  <thead>\n",
       "    <tr style=\"text-align: right;\">\n",
       "      <th></th>\n",
       "      <th>ID</th>\n",
       "      <th>Store ID</th>\n",
       "      <th>Total Price</th>\n",
       "      <th>Base Price</th>\n",
       "      <th>Units Sold</th>\n",
       "    </tr>\n",
       "  </thead>\n",
       "  <tbody>\n",
       "    <tr>\n",
       "      <th>136949</th>\n",
       "      <td>193915</td>\n",
       "      <td>9436</td>\n",
       "      <td>205.9125</td>\n",
       "      <td>469.5375</td>\n",
       "      <td>1</td>\n",
       "    </tr>\n",
       "  </tbody>\n",
       "</table>\n",
       "</div>"
      ],
      "text/plain": [
       "            ID  Store ID  Total Price  Base Price  Units Sold\n",
       "136949  193915      9436     205.9125    469.5375           1"
      ]
     },
     "execution_count": 33,
     "metadata": {},
     "output_type": "execute_result"
    }
   ],
   "source": [
    "data.loc[[136949]]"
   ]
  },
  {
   "cell_type": "markdown",
   "id": "75277c6f",
   "metadata": {},
   "source": [
    "## 6.Replacing with the Previous value – forward fill"
   ]
  },
  {
   "cell_type": "code",
   "execution_count": 35,
   "id": "10b31fc8",
   "metadata": {},
   "outputs": [
    {
     "data": {
      "text/html": [
       "<div>\n",
       "<style scoped>\n",
       "    .dataframe tbody tr th:only-of-type {\n",
       "        vertical-align: middle;\n",
       "    }\n",
       "\n",
       "    .dataframe tbody tr th {\n",
       "        vertical-align: top;\n",
       "    }\n",
       "\n",
       "    .dataframe thead th {\n",
       "        text-align: right;\n",
       "    }\n",
       "</style>\n",
       "<table border=\"1\" class=\"dataframe\">\n",
       "  <thead>\n",
       "    <tr style=\"text-align: right;\">\n",
       "      <th></th>\n",
       "      <th>ID</th>\n",
       "      <th>Store ID</th>\n",
       "      <th>Total Price</th>\n",
       "      <th>Base Price</th>\n",
       "      <th>Units Sold</th>\n",
       "    </tr>\n",
       "  </thead>\n",
       "  <tbody>\n",
       "    <tr>\n",
       "      <th>136949</th>\n",
       "      <td>193915</td>\n",
       "      <td>9436</td>\n",
       "      <td>NaN</td>\n",
       "      <td>469.5375</td>\n",
       "      <td>1</td>\n",
       "    </tr>\n",
       "  </tbody>\n",
       "</table>\n",
       "</div>"
      ],
      "text/plain": [
       "            ID  Store ID  Total Price  Base Price  Units Sold\n",
       "136949  193915      9436          NaN    469.5375           1"
      ]
     },
     "execution_count": 35,
     "metadata": {},
     "output_type": "execute_result"
    }
   ],
   "source": [
    "data.loc[[136949]]"
   ]
  },
  {
   "cell_type": "code",
   "execution_count": 36,
   "id": "8dc18f85",
   "metadata": {},
   "outputs": [],
   "source": [
    "data = data.fillna(method = \"ffill\")"
   ]
  },
  {
   "cell_type": "code",
   "execution_count": 37,
   "id": "9154f746",
   "metadata": {},
   "outputs": [
    {
     "data": {
      "text/plain": [
       "ID             0\n",
       "Store ID       0\n",
       "Total Price    0\n",
       "Base Price     0\n",
       "Units Sold     0\n",
       "dtype: int64"
      ]
     },
     "execution_count": 37,
     "metadata": {},
     "output_type": "execute_result"
    }
   ],
   "source": [
    "data.isnull().sum()"
   ]
  },
  {
   "cell_type": "code",
   "execution_count": 38,
   "id": "45400854",
   "metadata": {},
   "outputs": [
    {
     "data": {
      "text/html": [
       "<div>\n",
       "<style scoped>\n",
       "    .dataframe tbody tr th:only-of-type {\n",
       "        vertical-align: middle;\n",
       "    }\n",
       "\n",
       "    .dataframe tbody tr th {\n",
       "        vertical-align: top;\n",
       "    }\n",
       "\n",
       "    .dataframe thead th {\n",
       "        text-align: right;\n",
       "    }\n",
       "</style>\n",
       "<table border=\"1\" class=\"dataframe\">\n",
       "  <thead>\n",
       "    <tr style=\"text-align: right;\">\n",
       "      <th></th>\n",
       "      <th>ID</th>\n",
       "      <th>Store ID</th>\n",
       "      <th>Total Price</th>\n",
       "      <th>Base Price</th>\n",
       "      <th>Units Sold</th>\n",
       "    </tr>\n",
       "  </thead>\n",
       "  <tbody>\n",
       "    <tr>\n",
       "      <th>136949</th>\n",
       "      <td>193915</td>\n",
       "      <td>9436</td>\n",
       "      <td>241.5375</td>\n",
       "      <td>469.5375</td>\n",
       "      <td>1</td>\n",
       "    </tr>\n",
       "  </tbody>\n",
       "</table>\n",
       "</div>"
      ],
      "text/plain": [
       "            ID  Store ID  Total Price  Base Price  Units Sold\n",
       "136949  193915      9436     241.5375    469.5375           1"
      ]
     },
     "execution_count": 38,
     "metadata": {},
     "output_type": "execute_result"
    }
   ],
   "source": [
    "data.loc[[136949]]"
   ]
  },
  {
   "cell_type": "markdown",
   "id": "3b66779d",
   "metadata": {},
   "source": [
    "## 7.Replacing with the Next value – backward fill"
   ]
  },
  {
   "cell_type": "code",
   "execution_count": 40,
   "id": "101207d6",
   "metadata": {},
   "outputs": [
    {
     "data": {
      "text/html": [
       "<div>\n",
       "<style scoped>\n",
       "    .dataframe tbody tr th:only-of-type {\n",
       "        vertical-align: middle;\n",
       "    }\n",
       "\n",
       "    .dataframe tbody tr th {\n",
       "        vertical-align: top;\n",
       "    }\n",
       "\n",
       "    .dataframe thead th {\n",
       "        text-align: right;\n",
       "    }\n",
       "</style>\n",
       "<table border=\"1\" class=\"dataframe\">\n",
       "  <thead>\n",
       "    <tr style=\"text-align: right;\">\n",
       "      <th></th>\n",
       "      <th>ID</th>\n",
       "      <th>Store ID</th>\n",
       "      <th>Total Price</th>\n",
       "      <th>Base Price</th>\n",
       "      <th>Units Sold</th>\n",
       "    </tr>\n",
       "  </thead>\n",
       "  <tbody>\n",
       "    <tr>\n",
       "      <th>136949</th>\n",
       "      <td>193915</td>\n",
       "      <td>9436</td>\n",
       "      <td>NaN</td>\n",
       "      <td>469.5375</td>\n",
       "      <td>1</td>\n",
       "    </tr>\n",
       "  </tbody>\n",
       "</table>\n",
       "</div>"
      ],
      "text/plain": [
       "            ID  Store ID  Total Price  Base Price  Units Sold\n",
       "136949  193915      9436          NaN    469.5375           1"
      ]
     },
     "execution_count": 40,
     "metadata": {},
     "output_type": "execute_result"
    }
   ],
   "source": [
    "data.loc[[136949]]"
   ]
  },
  {
   "cell_type": "code",
   "execution_count": 41,
   "id": "391099dd",
   "metadata": {},
   "outputs": [],
   "source": [
    "data = data.fillna(method = \"bfill\")"
   ]
  },
  {
   "cell_type": "code",
   "execution_count": 42,
   "id": "b1cfec69",
   "metadata": {},
   "outputs": [
    {
     "data": {
      "text/plain": [
       "ID             0\n",
       "Store ID       0\n",
       "Total Price    0\n",
       "Base Price     0\n",
       "Units Sold     0\n",
       "dtype: int64"
      ]
     },
     "execution_count": 42,
     "metadata": {},
     "output_type": "execute_result"
    }
   ],
   "source": [
    "data.isnull().sum()"
   ]
  },
  {
   "cell_type": "code",
   "execution_count": 43,
   "id": "0156e732",
   "metadata": {},
   "outputs": [
    {
     "data": {
      "text/html": [
       "<div>\n",
       "<style scoped>\n",
       "    .dataframe tbody tr th:only-of-type {\n",
       "        vertical-align: middle;\n",
       "    }\n",
       "\n",
       "    .dataframe tbody tr th {\n",
       "        vertical-align: top;\n",
       "    }\n",
       "\n",
       "    .dataframe thead th {\n",
       "        text-align: right;\n",
       "    }\n",
       "</style>\n",
       "<table border=\"1\" class=\"dataframe\">\n",
       "  <thead>\n",
       "    <tr style=\"text-align: right;\">\n",
       "      <th></th>\n",
       "      <th>ID</th>\n",
       "      <th>Store ID</th>\n",
       "      <th>Total Price</th>\n",
       "      <th>Base Price</th>\n",
       "      <th>Units Sold</th>\n",
       "    </tr>\n",
       "  </thead>\n",
       "  <tbody>\n",
       "    <tr>\n",
       "      <th>136949</th>\n",
       "      <td>193915</td>\n",
       "      <td>9436</td>\n",
       "      <td>88.35</td>\n",
       "      <td>469.5375</td>\n",
       "      <td>1</td>\n",
       "    </tr>\n",
       "  </tbody>\n",
       "</table>\n",
       "</div>"
      ],
      "text/plain": [
       "            ID  Store ID  Total Price  Base Price  Units Sold\n",
       "136949  193915      9436        88.35    469.5375           1"
      ]
     },
     "execution_count": 43,
     "metadata": {},
     "output_type": "execute_result"
    }
   ],
   "source": [
    "data.loc[[136949]]"
   ]
  },
  {
   "cell_type": "markdown",
   "id": "065fe5c3",
   "metadata": {},
   "source": [
    "## 7.Interpolation"
   ]
  },
  {
   "cell_type": "code",
   "execution_count": 45,
   "id": "0b9a5388",
   "metadata": {},
   "outputs": [
    {
     "data": {
      "text/html": [
       "<div>\n",
       "<style scoped>\n",
       "    .dataframe tbody tr th:only-of-type {\n",
       "        vertical-align: middle;\n",
       "    }\n",
       "\n",
       "    .dataframe tbody tr th {\n",
       "        vertical-align: top;\n",
       "    }\n",
       "\n",
       "    .dataframe thead th {\n",
       "        text-align: right;\n",
       "    }\n",
       "</style>\n",
       "<table border=\"1\" class=\"dataframe\">\n",
       "  <thead>\n",
       "    <tr style=\"text-align: right;\">\n",
       "      <th></th>\n",
       "      <th>ID</th>\n",
       "      <th>Store ID</th>\n",
       "      <th>Total Price</th>\n",
       "      <th>Base Price</th>\n",
       "      <th>Units Sold</th>\n",
       "    </tr>\n",
       "  </thead>\n",
       "  <tbody>\n",
       "    <tr>\n",
       "      <th>136949</th>\n",
       "      <td>193915</td>\n",
       "      <td>9436</td>\n",
       "      <td>NaN</td>\n",
       "      <td>469.5375</td>\n",
       "      <td>1</td>\n",
       "    </tr>\n",
       "  </tbody>\n",
       "</table>\n",
       "</div>"
      ],
      "text/plain": [
       "            ID  Store ID  Total Price  Base Price  Units Sold\n",
       "136949  193915      9436          NaN    469.5375           1"
      ]
     },
     "execution_count": 45,
     "metadata": {},
     "output_type": "execute_result"
    }
   ],
   "source": [
    "data.loc[[136949]]"
   ]
  },
  {
   "cell_type": "code",
   "execution_count": 46,
   "id": "954dc32c",
   "metadata": {},
   "outputs": [],
   "source": [
    "data = data.interpolate()"
   ]
  },
  {
   "cell_type": "code",
   "execution_count": 47,
   "id": "29c09751",
   "metadata": {},
   "outputs": [
    {
     "data": {
      "text/plain": [
       "ID             0\n",
       "Store ID       0\n",
       "Total Price    0\n",
       "Base Price     0\n",
       "Units Sold     0\n",
       "dtype: int64"
      ]
     },
     "execution_count": 47,
     "metadata": {},
     "output_type": "execute_result"
    }
   ],
   "source": [
    "data.isnull().sum()"
   ]
  },
  {
   "cell_type": "code",
   "execution_count": 48,
   "id": "b3d4d7cf",
   "metadata": {},
   "outputs": [
    {
     "data": {
      "text/html": [
       "<div>\n",
       "<style scoped>\n",
       "    .dataframe tbody tr th:only-of-type {\n",
       "        vertical-align: middle;\n",
       "    }\n",
       "\n",
       "    .dataframe tbody tr th {\n",
       "        vertical-align: top;\n",
       "    }\n",
       "\n",
       "    .dataframe thead th {\n",
       "        text-align: right;\n",
       "    }\n",
       "</style>\n",
       "<table border=\"1\" class=\"dataframe\">\n",
       "  <thead>\n",
       "    <tr style=\"text-align: right;\">\n",
       "      <th></th>\n",
       "      <th>ID</th>\n",
       "      <th>Store ID</th>\n",
       "      <th>Total Price</th>\n",
       "      <th>Base Price</th>\n",
       "      <th>Units Sold</th>\n",
       "    </tr>\n",
       "  </thead>\n",
       "  <tbody>\n",
       "    <tr>\n",
       "      <th>136949</th>\n",
       "      <td>193915</td>\n",
       "      <td>9436</td>\n",
       "      <td>164.94375</td>\n",
       "      <td>469.5375</td>\n",
       "      <td>1</td>\n",
       "    </tr>\n",
       "  </tbody>\n",
       "</table>\n",
       "</div>"
      ],
      "text/plain": [
       "            ID  Store ID  Total Price  Base Price  Units Sold\n",
       "136949  193915      9436    164.94375    469.5375           1"
      ]
     },
     "execution_count": 48,
     "metadata": {},
     "output_type": "execute_result"
    }
   ],
   "source": [
    "data.loc[[136949]]"
   ]
  },
  {
   "cell_type": "markdown",
   "id": "bb037587",
   "metadata": {},
   "source": [
    " ## 8.Multivariate Approach"
   ]
  },
  {
   "cell_type": "markdown",
   "id": "2406baec",
   "metadata": {},
   "source": [
    "### 8.1 Iterative Imputer"
   ]
  },
  {
   "cell_type": "code",
   "execution_count": 50,
   "id": "5a56e133",
   "metadata": {},
   "outputs": [
    {
     "data": {
      "text/html": [
       "<div>\n",
       "<style scoped>\n",
       "    .dataframe tbody tr th:only-of-type {\n",
       "        vertical-align: middle;\n",
       "    }\n",
       "\n",
       "    .dataframe tbody tr th {\n",
       "        vertical-align: top;\n",
       "    }\n",
       "\n",
       "    .dataframe thead th {\n",
       "        text-align: right;\n",
       "    }\n",
       "</style>\n",
       "<table border=\"1\" class=\"dataframe\">\n",
       "  <thead>\n",
       "    <tr style=\"text-align: right;\">\n",
       "      <th></th>\n",
       "      <th>ID</th>\n",
       "      <th>Store ID</th>\n",
       "      <th>Total Price</th>\n",
       "      <th>Base Price</th>\n",
       "      <th>Units Sold</th>\n",
       "    </tr>\n",
       "  </thead>\n",
       "  <tbody>\n",
       "    <tr>\n",
       "      <th>136949</th>\n",
       "      <td>193915</td>\n",
       "      <td>9436</td>\n",
       "      <td>NaN</td>\n",
       "      <td>469.5375</td>\n",
       "      <td>1</td>\n",
       "    </tr>\n",
       "  </tbody>\n",
       "</table>\n",
       "</div>"
      ],
      "text/plain": [
       "            ID  Store ID  Total Price  Base Price  Units Sold\n",
       "136949  193915      9436          NaN    469.5375           1"
      ]
     },
     "execution_count": 50,
     "metadata": {},
     "output_type": "execute_result"
    }
   ],
   "source": [
    "data.loc[[136949]]"
   ]
  },
  {
   "cell_type": "code",
   "execution_count": 51,
   "id": "c012ef43",
   "metadata": {},
   "outputs": [],
   "source": [
    "X = data[['Total Price','Base Price','Units Sold']]"
   ]
  },
  {
   "cell_type": "code",
   "execution_count": 52,
   "id": "e4a13244",
   "metadata": {},
   "outputs": [
    {
     "data": {
      "text/plain": [
       "array([435.53632734, 469.5375    ,   1.        ])"
      ]
     },
     "execution_count": 52,
     "metadata": {},
     "output_type": "execute_result"
    }
   ],
   "source": [
    "from sklearn.experimental import enable_iterative_imputer\n",
    "from sklearn.impute import IterativeImputer\n",
    "impute_it = IterativeImputer()\n",
    "impute_it.fit_transform(X)[136949]"
   ]
  },
  {
   "cell_type": "markdown",
   "id": "04b3b175",
   "metadata": {},
   "source": [
    "### 8.2 KNN Imputer"
   ]
  },
  {
   "cell_type": "code",
   "execution_count": 54,
   "id": "daddbc04",
   "metadata": {},
   "outputs": [
    {
     "data": {
      "text/html": [
       "<div>\n",
       "<style scoped>\n",
       "    .dataframe tbody tr th:only-of-type {\n",
       "        vertical-align: middle;\n",
       "    }\n",
       "\n",
       "    .dataframe tbody tr th {\n",
       "        vertical-align: top;\n",
       "    }\n",
       "\n",
       "    .dataframe thead th {\n",
       "        text-align: right;\n",
       "    }\n",
       "</style>\n",
       "<table border=\"1\" class=\"dataframe\">\n",
       "  <thead>\n",
       "    <tr style=\"text-align: right;\">\n",
       "      <th></th>\n",
       "      <th>ID</th>\n",
       "      <th>Store ID</th>\n",
       "      <th>Total Price</th>\n",
       "      <th>Base Price</th>\n",
       "      <th>Units Sold</th>\n",
       "    </tr>\n",
       "  </thead>\n",
       "  <tbody>\n",
       "    <tr>\n",
       "      <th>136949</th>\n",
       "      <td>193915</td>\n",
       "      <td>9436</td>\n",
       "      <td>NaN</td>\n",
       "      <td>469.5375</td>\n",
       "      <td>1</td>\n",
       "    </tr>\n",
       "  </tbody>\n",
       "</table>\n",
       "</div>"
      ],
      "text/plain": [
       "            ID  Store ID  Total Price  Base Price  Units Sold\n",
       "136949  193915      9436          NaN    469.5375           1"
      ]
     },
     "execution_count": 54,
     "metadata": {},
     "output_type": "execute_result"
    }
   ],
   "source": [
    "data.loc[[136949]]"
   ]
  },
  {
   "cell_type": "code",
   "execution_count": 55,
   "id": "5896c12e",
   "metadata": {},
   "outputs": [],
   "source": [
    "X = data[['Total Price','Base Price','Units Sold']]"
   ]
  },
  {
   "cell_type": "code",
   "execution_count": 56,
   "id": "c1459188",
   "metadata": {},
   "outputs": [
    {
     "data": {
      "text/plain": [
       "array([469.5375, 469.5375,   1.    ])"
      ]
     },
     "execution_count": 56,
     "metadata": {},
     "output_type": "execute_result"
    }
   ],
   "source": [
    "from sklearn.impute import KNNImputer\n",
    "impute_knn = KNNImputer(n_neighbors=2)\n",
    "impute_knn.fit_transform(X)[136949]"
   ]
  },
  {
   "cell_type": "markdown",
   "id": "b47dabc0",
   "metadata": {},
   "source": [
    "## Spliting the Data"
   ]
  },
  {
   "cell_type": "code",
   "execution_count": 63,
   "id": "c32619d8",
   "metadata": {},
   "outputs": [],
   "source": [
    "# Define the features (X) and target variable (y)\n",
    "X = data[['Store ID', 'Total Price', 'Base Price']]\n",
    "y = data['Units Sold']\n",
    "# Split the data into training and testing sets\n",
    "X_train, X_test, y_train, y_test = train_test_split(X, y, test_size=0.2, random_state=42)"
   ]
  },
  {
   "cell_type": "markdown",
   "id": "c1ff73f2",
   "metadata": {},
   "source": [
    "## Features Scaling"
   ]
  },
  {
   "cell_type": "markdown",
   "id": "532fd8d1",
   "metadata": {},
   "source": [
    "### 1.Standardization"
   ]
  },
  {
   "cell_type": "code",
   "execution_count": 58,
   "id": "325766eb",
   "metadata": {},
   "outputs": [
    {
     "data": {
      "text/plain": [
       "array([[ 0.41709875, -1.15840409, -1.19369132],\n",
       "       [ 0.36676581, -1.18600747, -1.21938245],\n",
       "       [-0.14143448,  0.17345926,  0.04590534],\n",
       "       ...,\n",
       "       [-1.04580369, -1.3240244 , -1.18084576],\n",
       "       [-1.42898346, -0.2819966 ,  0.18078374],\n",
       "       [ 0.45444254, -0.14397967, -0.24954257]])"
      ]
     },
     "execution_count": 58,
     "metadata": {},
     "output_type": "execute_result"
    }
   ],
   "source": [
    "Std = preprocessing.StandardScaler()\n",
    "X_train = Std.fit_transform(X_train)\n",
    "X_test = Std.fit_transform(X_test)\n",
    "X_train"
   ]
  },
  {
   "cell_type": "markdown",
   "id": "15894df5",
   "metadata": {},
   "source": [
    "### 2. Normalization"
   ]
  },
  {
   "cell_type": "code",
   "execution_count": 64,
   "id": "f7f067ea",
   "metadata": {},
   "outputs": [
    {
     "data": {
      "text/plain": [
       "array([[0.99945984, 0.0232381 , 0.0232381 ],\n",
       "       [0.99937338, 0.0250284 , 0.0250284 ],\n",
       "       [0.99945594, 0.01732997, 0.02806224],\n",
       "       ...,\n",
       "       [0.99862972, 0.03322495, 0.04043248],\n",
       "       [0.99738054, 0.04366533, 0.05766624],\n",
       "       [0.99984938, 0.01227237, 0.01227237]])"
      ]
     },
     "execution_count": 64,
     "metadata": {},
     "output_type": "execute_result"
    }
   ],
   "source": [
    "norm = preprocessing.Normalizer()\n",
    "X_train=norm.fit_transform(X_train)\n",
    "X_test=norm.fit_transform(X_test)\n",
    "X_test"
   ]
  }
 ],
 "metadata": {
  "kernelspec": {
   "display_name": "Python 3 (ipykernel)",
   "language": "python",
   "name": "python3"
  },
  "language_info": {
   "codemirror_mode": {
    "name": "ipython",
    "version": 3
   },
   "file_extension": ".py",
   "mimetype": "text/x-python",
   "name": "python",
   "nbconvert_exporter": "python",
   "pygments_lexer": "ipython3",
   "version": "3.10.7"
  }
 },
 "nbformat": 4,
 "nbformat_minor": 5
}
